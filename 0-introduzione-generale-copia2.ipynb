{
  "cells": [
    {
      "cell_type": "markdown",
      "id": "4b5db06b",
      "metadata": {
        "id": "4b5db06b"
      },
      "source": [
        "<!--NAVIGATION-->\n",
        "< [Indice](indice.ipynb) | [Hello world Jupyter](1-hello-world-jupyter.ipynb) >"
      ]
    },
    {
      "cell_type": "markdown",
      "id": "c3cb011e",
      "metadata": {
        "id": "c3cb011e"
      },
      "source": [
        "# Introduzione al corso Artificial Intelligence with Python"
      ]
    },
    {
      "cell_type": "markdown",
      "id": "9747c1b2",
      "metadata": {
        "id": "9747c1b2"
      },
      "source": [
        "Il Corso ha lo scopo di fornire agli studenti abilità per codificare algoritmi di base per implementare al calcolatore semplici modelli di Machine Learning. Gli studenti hanno l’opportunità di apprendere Python, un linguaggio di programmazione molto utilizzato in ambito scientifico, e di utilizzarlo per trattare banche dati e implementare alcune tecniche di Supervised Learning (prediction e la classification). Infine hanno la possibilità di applicare tali tecniche in contesti reali, per “toccare con mano” come un dato possa essere predetto o classificato in automatico da un algoritmo, sulla base di una conoscenza pregressa dei dati.\n",
        "\n",
        "MODIFICA seconda\n",
        "GIANDO"
      ]
    }
  ],
  "metadata": {
    "hide_input": false,
    "kernelspec": {
      "display_name": "Python 3 (ipykernel)",
      "language": "python",
      "name": "python3"
    },
    "language_info": {
      "codemirror_mode": {
        "name": "ipython",
        "version": 3
      },
      "file_extension": ".py",
      "mimetype": "text/x-python",
      "name": "python",
      "nbconvert_exporter": "python",
      "pygments_lexer": "ipython3",
      "version": "3.9.12"
    },
    "varInspector": {
      "cols": {
        "lenName": 16,
        "lenType": 16,
        "lenVar": 40
      },
      "kernels_config": {
        "python": {
          "delete_cmd_postfix": "",
          "delete_cmd_prefix": "del ",
          "library": "var_list.py",
          "varRefreshCmd": "print(var_dic_list())"
        },
        "r": {
          "delete_cmd_postfix": ") ",
          "delete_cmd_prefix": "rm(",
          "library": "var_list.r",
          "varRefreshCmd": "cat(var_dic_list()) "
        }
      },
      "types_to_exclude": [
        "module",
        "function",
        "builtin_function_or_method",
        "instance",
        "_Feature"
      ],
      "window_display": false
    },
    "colab": {
      "provenance": []
    }
  },
  "nbformat": 4,
  "nbformat_minor": 5
}