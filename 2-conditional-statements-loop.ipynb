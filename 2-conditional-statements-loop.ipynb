{
 "cells": [
  {
   "cell_type": "markdown",
   "id": "05b83f5f",
   "metadata": {},
   "source": [
    "<!--NAVIGATION-->\n",
    "< [Indice](indice.ipynb)  |  [Indice](indice.ipynb)>"
   ]
  },
  {
   "cell_type": "markdown",
   "id": "df1e31a4",
   "metadata": {},
   "source": [
    "#  A QUICK RECAP"
   ]
  },
  {
   "cell_type": "markdown",
   "id": "c118f69f",
   "metadata": {},
   "source": [
    "Nella lezione precedente abbiamo visto:\n",
    "\n",
    "    - come si assegna una variabile e le operazioni che si possono svolgere\n",
    "    - ogni variabile appartiene ad uno specifico TYPE (BOOLEAND, STR, INT, FLOAT, LIST)\n",
    "    - l'inserimento di un dato da tastiera (INPUT)\n",
    "    - come si definiscono le funzioni\n",
    "    - come si disegna una funzione (molto superficialmente)\n",
    "    - con il tasto TAB completiamo il comando Python\n",
    "    - con il tasto SHIFT+TAB attiviamo l'help (premere due volte tab velocemente)"
   ]
  },
  {
   "cell_type": "code",
   "execution_count": 1,
   "id": "faabd4bf",
   "metadata": {},
   "outputs": [
    {
     "data": {
      "text/plain": [
       "[[False, True], ['Marco', 'Giovanni'], [18, 17, 16]]"
      ]
     },
     "execution_count": 1,
     "metadata": {},
     "output_type": "execute_result"
    }
   ],
   "source": [
    "# alcuni esempi\n",
    "numero=10\n",
    "π=3.1415\n",
    "nome=\"ciao\"\n",
    "condizione=True\n",
    "lista1 = [1,2,3,4,5]\n",
    "listamista=[\"1\",True,3.2,12]\n",
    "listadiliste=[[False,True],[\"Marco\",\"Giovanni\"],[18,17,16]]\n",
    "listadiliste"
   ]
  },
  {
   "cell_type": "code",
   "execution_count": 1,
   "id": "da49fe52",
   "metadata": {},
   "outputs": [
    {
     "data": {
      "text/plain": [
       "4"
      ]
     },
     "execution_count": 1,
     "metadata": {},
     "output_type": "execute_result"
    }
   ],
   "source": [
    "def myFunction (x):\n",
    "    y = 2*x\n",
    "    return y\n",
    "myFunction(2)"
   ]
  },
  {
   "cell_type": "code",
   "execution_count": null,
   "id": "c718733a",
   "metadata": {},
   "outputs": [],
   "source": []
  },
  {
   "cell_type": "code",
   "execution_count": 5,
   "id": "61eb35bd",
   "metadata": {},
   "outputs": [
    {
     "name": "stdout",
     "output_type": "stream",
     "text": [
      "Help on class list in module builtins:\n",
      "\n",
      "class list(object)\n",
      " |  list(iterable=(), /)\n",
      " |  \n",
      " |  Built-in mutable sequence.\n",
      " |  \n",
      " |  If no argument is given, the constructor creates a new empty list.\n",
      " |  The argument must be an iterable if specified.\n",
      " |  \n",
      " |  Methods defined here:\n",
      " |  \n",
      " |  __add__(self, value, /)\n",
      " |      Return self+value.\n",
      " |  \n",
      " |  __contains__(self, key, /)\n",
      " |      Return key in self.\n",
      " |  \n",
      " |  __delitem__(self, key, /)\n",
      " |      Delete self[key].\n",
      " |  \n",
      " |  __eq__(self, value, /)\n",
      " |      Return self==value.\n",
      " |  \n",
      " |  __ge__(self, value, /)\n",
      " |      Return self>=value.\n",
      " |  \n",
      " |  __getattribute__(self, name, /)\n",
      " |      Return getattr(self, name).\n",
      " |  \n",
      " |  __getitem__(...)\n",
      " |      x.__getitem__(y) <==> x[y]\n",
      " |  \n",
      " |  __gt__(self, value, /)\n",
      " |      Return self>value.\n",
      " |  \n",
      " |  __iadd__(self, value, /)\n",
      " |      Implement self+=value.\n",
      " |  \n",
      " |  __imul__(self, value, /)\n",
      " |      Implement self*=value.\n",
      " |  \n",
      " |  __init__(self, /, *args, **kwargs)\n",
      " |      Initialize self.  See help(type(self)) for accurate signature.\n",
      " |  \n",
      " |  __iter__(self, /)\n",
      " |      Implement iter(self).\n",
      " |  \n",
      " |  __le__(self, value, /)\n",
      " |      Return self<=value.\n",
      " |  \n",
      " |  __len__(self, /)\n",
      " |      Return len(self).\n",
      " |  \n",
      " |  __lt__(self, value, /)\n",
      " |      Return self<value.\n",
      " |  \n",
      " |  __mul__(self, value, /)\n",
      " |      Return self*value.\n",
      " |  \n",
      " |  __ne__(self, value, /)\n",
      " |      Return self!=value.\n",
      " |  \n",
      " |  __repr__(self, /)\n",
      " |      Return repr(self).\n",
      " |  \n",
      " |  __reversed__(self, /)\n",
      " |      Return a reverse iterator over the list.\n",
      " |  \n",
      " |  __rmul__(self, value, /)\n",
      " |      Return value*self.\n",
      " |  \n",
      " |  __setitem__(self, key, value, /)\n",
      " |      Set self[key] to value.\n",
      " |  \n",
      " |  __sizeof__(self, /)\n",
      " |      Return the size of the list in memory, in bytes.\n",
      " |  \n",
      " |  append(self, object, /)\n",
      " |      Append object to the end of the list.\n",
      " |  \n",
      " |  clear(self, /)\n",
      " |      Remove all items from list.\n",
      " |  \n",
      " |  copy(self, /)\n",
      " |      Return a shallow copy of the list.\n",
      " |  \n",
      " |  count(self, value, /)\n",
      " |      Return number of occurrences of value.\n",
      " |  \n",
      " |  extend(self, iterable, /)\n",
      " |      Extend list by appending elements from the iterable.\n",
      " |  \n",
      " |  index(self, value, start=0, stop=9223372036854775807, /)\n",
      " |      Return first index of value.\n",
      " |      \n",
      " |      Raises ValueError if the value is not present.\n",
      " |  \n",
      " |  insert(self, index, object, /)\n",
      " |      Insert object before index.\n",
      " |  \n",
      " |  pop(self, index=-1, /)\n",
      " |      Remove and return item at index (default last).\n",
      " |      \n",
      " |      Raises IndexError if list is empty or index is out of range.\n",
      " |  \n",
      " |  remove(self, value, /)\n",
      " |      Remove first occurrence of value.\n",
      " |      \n",
      " |      Raises ValueError if the value is not present.\n",
      " |  \n",
      " |  reverse(self, /)\n",
      " |      Reverse *IN PLACE*.\n",
      " |  \n",
      " |  sort(self, /, *, key=None, reverse=False)\n",
      " |      Sort the list in ascending order and return None.\n",
      " |      \n",
      " |      The sort is in-place (i.e. the list itself is modified) and stable (i.e. the\n",
      " |      order of two equal elements is maintained).\n",
      " |      \n",
      " |      If a key function is given, apply it once to each list item and sort them,\n",
      " |      ascending or descending, according to their function values.\n",
      " |      \n",
      " |      The reverse flag can be set to sort in descending order.\n",
      " |  \n",
      " |  ----------------------------------------------------------------------\n",
      " |  Class methods defined here:\n",
      " |  \n",
      " |  __class_getitem__(...) from builtins.type\n",
      " |      See PEP 585\n",
      " |  \n",
      " |  ----------------------------------------------------------------------\n",
      " |  Static methods defined here:\n",
      " |  \n",
      " |  __new__(*args, **kwargs) from builtins.type\n",
      " |      Create and return a new object.  See help(type) for accurate signature.\n",
      " |  \n",
      " |  ----------------------------------------------------------------------\n",
      " |  Data and other attributes defined here:\n",
      " |  \n",
      " |  __hash__ = None\n",
      "\n"
     ]
    }
   ],
   "source": [
    "# la funzione help\n",
    "help(list)"
   ]
  },
  {
   "cell_type": "code",
   "execution_count": 104,
   "id": "07718124",
   "metadata": {},
   "outputs": [],
   "source": [
    "# come vedere l'help\n",
    "myFunction??"
   ]
  },
  {
   "cell_type": "code",
   "execution_count": null,
   "id": "1fa196f5",
   "metadata": {},
   "outputs": [],
   "source": []
  },
  {
   "cell_type": "markdown",
   "id": "8dd5f73e",
   "metadata": {},
   "source": [
    "# CONTROLLO DI FLUSSO (CONTROL - FLOW)"
   ]
  },
  {
   "cell_type": "markdown",
   "id": "8e4ed6fd",
   "metadata": {},
   "source": [
    "Un programma è un elenco di istruzioni che vengono eseguite in sequenza. Con il flusso di controllo, puoi eseguire determinati blocchi di codice in modo **CONDIZIONATO** e/o **RIPETUTAMENTE**: questi blocchi di base possono essere combinati per creare programmi molto sofisticati"
   ]
  },
  {
   "cell_type": "code",
   "execution_count": null,
   "id": "845d3f7d",
   "metadata": {},
   "outputs": [],
   "source": []
  },
  {
   "cell_type": "markdown",
   "id": "7e6fd1b4",
   "metadata": {},
   "source": [
    "## Conditional Statements: ``if``-``elif``-``else``:\n",
    "Le istruzioni condizionali, spesso chiamate istruzioni *if-then*, consentono al programmatore di eseguire determinate parti di codice a seconda di alcune condizioni booleane.\n",
    "Un esempio di base di un'istruzione condizionale Python è questo:"
   ]
  },
  {
   "cell_type": "code",
   "execution_count": 106,
   "id": "b65ddef1",
   "metadata": {},
   "outputs": [
    {
     "data": {
      "text/plain": [
       "False"
      ]
     },
     "execution_count": 106,
     "metadata": {},
     "output_type": "execute_result"
    }
   ],
   "source": [
    "x=1\n",
    "x<0"
   ]
  },
  {
   "cell_type": "code",
   "execution_count": 27,
   "id": "6138ba9d",
   "metadata": {},
   "outputs": [
    {
     "name": "stdout",
     "output_type": "stream",
     "text": [
      "il numero è maggiore di 3\n"
     ]
    }
   ],
   "source": [
    "x = 4\n",
    "if x > 3:\n",
    "    print(\"il numero è maggiore di 3\")"
   ]
  },
  {
   "cell_type": "markdown",
   "id": "2f8082e7",
   "metadata": {},
   "source": [
    "Possiamo esplicitare anche l'alternativa "
   ]
  },
  {
   "cell_type": "code",
   "execution_count": 30,
   "id": "2cdbba09",
   "metadata": {},
   "outputs": [
    {
     "name": "stdout",
     "output_type": "stream",
     "text": [
      "X è maggiore di 0\n"
     ]
    }
   ],
   "source": [
    "x = 0\n",
    "\n",
    "if x >= 0:\n",
    "    print(\"X è maggiore di 0\")\n",
    "else:\n",
    "    print(x, \"x è minore di 0\")"
   ]
  },
  {
   "cell_type": "code",
   "execution_count": null,
   "id": "8153c25b",
   "metadata": {},
   "outputs": [],
   "source": []
  },
  {
   "cell_type": "code",
   "execution_count": 34,
   "id": "fdc47acb",
   "metadata": {},
   "outputs": [
    {
     "name": "stdout",
     "output_type": "stream",
     "text": [
      "inserisci un numero10\n",
      "<class 'float'>\n"
     ]
    }
   ],
   "source": [
    "a = input(\"inserisci un numero\")\n",
    "b = float(a)\n",
    "print(type(b))"
   ]
  },
  {
   "cell_type": "markdown",
   "id": "7cfb9964",
   "metadata": {},
   "source": [
    "Possiamo esplicitare più alternative "
   ]
  },
  {
   "cell_type": "code",
   "execution_count": 37,
   "id": "1ec4e8aa",
   "metadata": {},
   "outputs": [
    {
     "name": "stdout",
     "output_type": "stream",
     "text": [
      "inserisci un numero-2\n",
      "il numero inserito è negativo\n"
     ]
    }
   ],
   "source": [
    "x = float(input(\"inserisci un numero\"))\n",
    "\n",
    "if x == 0:\n",
    "    print(\"il numero inserito è zero\")\n",
    "elif x < 0:\n",
    "    print(\"il numero inserito è negativo\")\n",
    "elif (0 < x) and (x <= 2):\n",
    "    print(\"il numero è compreso (o uguale) tra 0 e 2\")\n",
    "else:\n",
    "    print(\"il numero è maggiore di 2\")"
   ]
  },
  {
   "cell_type": "markdown",
   "id": "f020ab65",
   "metadata": {},
   "source": [
    "# ORA PROVA TU\n",
    "Scrivi un conditional statement che, data una stringa in input, ci dice se la lunghezza della stringa è maggiore di 7 caratteri"
   ]
  },
  {
   "cell_type": "code",
   "execution_count": null,
   "id": "fc678c83",
   "metadata": {},
   "outputs": [],
   "source": []
  },
  {
   "cell_type": "code",
   "execution_count": 3,
   "id": "81469a44",
   "metadata": {
    "hide_input": false
   },
   "outputs": [
    {
     "name": "stdout",
     "output_type": "stream",
     "text": [
      "inserisci una stringa3\n",
      "La stringa è minore o uguale di 7 caratteri\n"
     ]
    }
   ],
   "source": [
    "x = input(\"inserisci una stringa\")\n",
    "if len(x) > 7:\n",
    "    print(\"la stringa è maggiore di 7 caratteri\")\n",
    "else:\n",
    "    print(\"La stringa è minore o uguale di 7 caratteri\")"
   ]
  },
  {
   "cell_type": "code",
   "execution_count": null,
   "id": "9b03eba9",
   "metadata": {},
   "outputs": [],
   "source": []
  },
  {
   "cell_type": "markdown",
   "id": "c6649eb4",
   "metadata": {},
   "source": [
    "# ORA PROVA TU\n",
    "Scriviamo una funzione che riceve due numeri interi e ci dice se il primo numero e maggiore del secondo"
   ]
  },
  {
   "cell_type": "code",
   "execution_count": null,
   "id": "f9a97366",
   "metadata": {},
   "outputs": [],
   "source": [
    "confronto(x,y)\n",
    "\n"
   ]
  },
  {
   "cell_type": "code",
   "execution_count": 20,
   "id": "be6ec0e8",
   "metadata": {
    "hide_input": false
   },
   "outputs": [
    {
     "name": "stdout",
     "output_type": "stream",
     "text": [
      "Inserisci un numero3\n",
      "Inserisci un altro numero3\n",
      "3.0  è uguale a  3.0\n"
     ]
    }
   ],
   "source": [
    "def confronto(x,y):\n",
    "    if (x==y):\n",
    "        print(x,\" è uguale a \",y)\n",
    "    elif x < y:\n",
    "        print(x, \" è minore di \",y)\n",
    "    else:\n",
    "        print(x, \" è maggiore di \",y)\n",
    "        \n",
    "x = float(input(\"Inserisci un numero\"))\n",
    "y = float(input(\"Inserisci un altro numero\"))\n",
    "confronto(x,y)"
   ]
  },
  {
   "cell_type": "code",
   "execution_count": 15,
   "id": "a9621647",
   "metadata": {},
   "outputs": [
    {
     "name": "stdout",
     "output_type": "stream",
     "text": [
      "è minore\n"
     ]
    }
   ],
   "source": [
    "confronto(4,5)"
   ]
  },
  {
   "cell_type": "code",
   "execution_count": null,
   "id": "7e2f473b",
   "metadata": {},
   "outputs": [],
   "source": []
  },
  {
   "cell_type": "markdown",
   "id": "cb72d5ed",
   "metadata": {},
   "source": [
    "## ``for`` LOOP (CICLO)\n",
    "I loop in Python sono un modo per eseguire ripetutamente alcune istruzioni di codice.\n",
    "Quindi, per esempio, se vogliamo stampare ciascuno degli elementi in un elenco, possiamo usare un ciclo ``for``:"
   ]
  },
  {
   "cell_type": "code",
   "execution_count": 13,
   "id": "99a7dbcb",
   "metadata": {},
   "outputs": [],
   "source": [
    "a = [1,2,3,4,5]   # creo una lista"
   ]
  },
  {
   "cell_type": "code",
   "execution_count": 14,
   "id": "fbad9a9e",
   "metadata": {},
   "outputs": [
    {
     "name": "stdout",
     "output_type": "stream",
     "text": [
      "1\n",
      "2\n",
      "3\n",
      "4\n",
      "5\n"
     ]
    }
   ],
   "source": [
    "for i in a:\n",
    "    print(i)"
   ]
  },
  {
   "cell_type": "code",
   "execution_count": null,
   "id": "43f3c956",
   "metadata": {},
   "outputs": [],
   "source": []
  },
  {
   "cell_type": "code",
   "execution_count": 40,
   "id": "5c066418",
   "metadata": {},
   "outputs": [],
   "source": [
    "# se voglio stampare sulla stessa linea\n",
    "for i in a:\n",
    "    print(i, end=' ') #"
   ]
  },
  {
   "cell_type": "code",
   "execution_count": 41,
   "id": "377bae0f",
   "metadata": {},
   "outputs": [
    {
     "name": "stdout",
     "output_type": "stream",
     "text": [
      "['Corso', 'AI', 'with', 'Python']\n"
     ]
    }
   ],
   "source": [
    "b = [\"Corso\",\"AI\", \"with\", \"Python\"]\n",
    "print(b)"
   ]
  },
  {
   "cell_type": "code",
   "execution_count": 44,
   "id": "19b453b6",
   "metadata": {},
   "outputs": [
    {
     "name": "stdout",
     "output_type": "stream",
     "text": [
      "Corso\n",
      "AI\n",
      "with\n",
      "Python\n",
      "CorsoAIwithPython\n"
     ]
    }
   ],
   "source": [
    "a=\"\"\n",
    "for i in b:\n",
    "    print(i)\n",
    "    a=a+i\n",
    "print(a)"
   ]
  },
  {
   "cell_type": "code",
   "execution_count": null,
   "id": "94f241ee",
   "metadata": {},
   "outputs": [],
   "source": []
  },
  {
   "cell_type": "markdown",
   "id": "beb98839",
   "metadata": {},
   "source": [
    "Si noti la semplicità del ciclo for: \n",
    "\n",
    "1) specifichiamo la variabile che vogliamo usare, \n",
    "2) la sequenza su cui vogliamo eseguire il ciclo \n",
    "3) e usiamo l'operatore \"in\" per collegarli insieme in modo intuitivo e leggibile. \n",
    "\n",
    "Più precisamente, l'oggetto a DESTRA di \"in\" può essere qualsiasi ITERATORE Python.\n",
    "Un iteratore può essere pensato come una sequenza generalizzata di oggetti.\n",
    "\n",
    "Ad esempio, uno degli iteratori più comunemente usati in Python è l'oggetto range, che genera una sequenza di numeri:"
   ]
  },
  {
   "cell_type": "code",
   "execution_count": 10,
   "id": "ced65862",
   "metadata": {},
   "outputs": [
    {
     "name": "stdout",
     "output_type": "stream",
     "text": [
      "0 1 2 3 4 5 6 7 8 9 "
     ]
    }
   ],
   "source": [
    "for i in range(10):\n",
    "    print(i, end=' ')"
   ]
  },
  {
   "cell_type": "code",
   "execution_count": 31,
   "id": "1604c1e6",
   "metadata": {},
   "outputs": [
    {
     "data": {
      "text/plain": [
       "[0, 2, 4, 6, 8]"
      ]
     },
     "execution_count": 31,
     "metadata": {},
     "output_type": "execute_result"
    }
   ],
   "source": [
    "# range da 0 a 10 passo 2\n",
    "list(range(0, 10, 2))"
   ]
  },
  {
   "cell_type": "markdown",
   "id": "457ba359",
   "metadata": {},
   "source": [
    "# ESEMPIO 1\n",
    "Creiamo una funzione che esegue la somma di tutti i numeri presenti in una lista"
   ]
  },
  {
   "cell_type": "code",
   "execution_count": 45,
   "id": "d74ae4ac",
   "metadata": {},
   "outputs": [
    {
     "data": {
      "text/plain": [
       "[1, 2, 3, 4, 5, 6, 7, 8, 9, 10]"
      ]
     },
     "execution_count": 45,
     "metadata": {},
     "output_type": "execute_result"
    }
   ],
   "source": [
    "x = [1,2,3,4,5,6,7,8,9,10]"
   ]
  },
  {
   "cell_type": "code",
   "execution_count": 49,
   "id": "fa95b52d",
   "metadata": {},
   "outputs": [
    {
     "name": "stdout",
     "output_type": "stream",
     "text": [
      "1\n",
      "2\n",
      "3\n",
      "10\n",
      "12\n",
      "5\n",
      "6\n",
      "21600\n"
     ]
    }
   ],
   "source": [
    "somma = 1\n",
    "for i in [1,2,3,10,12,5,6]:\n",
    "    print(i)\n",
    "    somma = somma *i  \n",
    "\n",
    "print(somma)\n"
   ]
  },
  {
   "cell_type": "code",
   "execution_count": null,
   "id": "05758e52",
   "metadata": {},
   "outputs": [],
   "source": []
  },
  {
   "cell_type": "code",
   "execution_count": 26,
   "id": "2eeacf20",
   "metadata": {},
   "outputs": [],
   "source": [
    "def sommanumeri(x):\n",
    "    counter = 0\n",
    "    for i in x:\n",
    "        counter = counter + i\n",
    "    return counter"
   ]
  },
  {
   "cell_type": "code",
   "execution_count": 52,
   "id": "164b2dcd",
   "metadata": {},
   "outputs": [],
   "source": [
    "a = [1,1,2,2,2,2,2,2,2,3,4,5]"
   ]
  },
  {
   "cell_type": "code",
   "execution_count": null,
   "id": "5c5f1936",
   "metadata": {},
   "outputs": [],
   "source": []
  },
  {
   "cell_type": "code",
   "execution_count": 53,
   "id": "c88a6061",
   "metadata": {},
   "outputs": [
    {
     "data": {
      "text/plain": [
       "{1, 2, 3, 4, 5}"
      ]
     },
     "execution_count": 53,
     "metadata": {},
     "output_type": "execute_result"
    }
   ],
   "source": [
    "set(a)"
   ]
  },
  {
   "cell_type": "code",
   "execution_count": null,
   "id": "3211dea8",
   "metadata": {},
   "outputs": [],
   "source": []
  },
  {
   "cell_type": "markdown",
   "id": "95591ed0",
   "metadata": {},
   "source": [
    "# ESEMPIO 2\n",
    "Scriviamo una funzione Python che prende due liste e restituisce True se hanno almeno un elemento in comune"
   ]
  },
  {
   "cell_type": "code",
   "execution_count": 63,
   "id": "f3efe270",
   "metadata": {},
   "outputs": [
    {
     "name": "stdout",
     "output_type": "stream",
     "text": [
      "Ne ho trovato uno!\n",
      "Ne ho trovato uno!\n",
      "Ne ho trovato uno!\n",
      "Ne ho trovato uno!\n"
     ]
    },
    {
     "data": {
      "text/plain": [
       "(True, 4)"
      ]
     },
     "execution_count": 63,
     "metadata": {},
     "output_type": "execute_result"
    }
   ],
   "source": [
    "x = [1,2,3,5,6,4]\n",
    "y= [5,6,5,6,7,8,9,10]\n",
    "checklist(x,y)"
   ]
  },
  {
   "cell_type": "code",
   "execution_count": null,
   "id": "f5685d30",
   "metadata": {},
   "outputs": [],
   "source": []
  },
  {
   "cell_type": "code",
   "execution_count": 60,
   "id": "a6c35a60",
   "metadata": {},
   "outputs": [],
   "source": [
    "def checklist(x,y):\n",
    "    trovato = False\n",
    "    counter=0\n",
    "    for i in x:\n",
    "        for j in y:\n",
    "            if i == j:\n",
    "                print(\"Ne ho trovato uno!\")\n",
    "                counter=counter+1\n",
    "                trovato = True\n",
    "    return trovato,counter           "
   ]
  },
  {
   "cell_type": "code",
   "execution_count": null,
   "id": "cbba9d40",
   "metadata": {},
   "outputs": [],
   "source": [
    "checklist ()"
   ]
  },
  {
   "cell_type": "code",
   "execution_count": null,
   "id": "c8ca593b",
   "metadata": {},
   "outputs": [],
   "source": []
  },
  {
   "cell_type": "code",
   "execution_count": null,
   "id": "30f01b00",
   "metadata": {},
   "outputs": [],
   "source": []
  },
  {
   "cell_type": "code",
   "execution_count": 64,
   "id": "9310d70e",
   "metadata": {},
   "outputs": [],
   "source": [
    "def checklist(l1,l2):\n",
    "    common = False\n",
    "    count= 0\n",
    "    for i in l1:\n",
    "        for j in l2:\n",
    "            if i == j:\n",
    "                common = True\n",
    "                count = count+1\n",
    "                print(\"Trovati, \", count,\" elementi comuni\")\n",
    "    return common"
   ]
  },
  {
   "cell_type": "code",
   "execution_count": 71,
   "id": "5b639650",
   "metadata": {},
   "outputs": [],
   "source": [
    "def fattoriale(x):\n",
    "    fattoriale = 1\n",
    "    for i in range(1,x+1):\n",
    "        fattoriale = fattoriale*i\n",
    "    return fattoriale"
   ]
  },
  {
   "cell_type": "code",
   "execution_count": 74,
   "id": "cbc29bbb",
   "metadata": {},
   "outputs": [
    {
     "data": {
      "text/plain": [
       "720"
      ]
     },
     "execution_count": 74,
     "metadata": {},
     "output_type": "execute_result"
    }
   ],
   "source": [
    "fattoriale(6)"
   ]
  },
  {
   "cell_type": "code",
   "execution_count": null,
   "id": "1440b71a",
   "metadata": {},
   "outputs": [],
   "source": []
  },
  {
   "cell_type": "code",
   "execution_count": 42,
   "id": "9b13cadf",
   "metadata": {},
   "outputs": [
    {
     "name": "stdout",
     "output_type": "stream",
     "text": [
      "Trovati,  1  elementi comuni\n",
      "Trovati,  2  elementi comuni\n",
      "Trovati,  3  elementi comuni\n"
     ]
    },
    {
     "data": {
      "text/plain": [
       "True"
      ]
     },
     "execution_count": 42,
     "metadata": {},
     "output_type": "execute_result"
    }
   ],
   "source": [
    "l1 = [1,2,3,4,5,6]\n",
    "l2 = [1,2,3,7,8,9]\n",
    "checklist(l1,l2)"
   ]
  },
  {
   "cell_type": "markdown",
   "id": "42c68e6e",
   "metadata": {},
   "source": [
    "# ESEMPIO 3\n",
    "Scrivi un programma Python per ottenere la frequenza degli elementi di una lista\n",
    "\n",
    "\n",
    "<img src=\"fig/frequency of elements.png\">\n"
   ]
  },
  {
   "cell_type": "code",
   "execution_count": 45,
   "id": "dc37fc43",
   "metadata": {},
   "outputs": [],
   "source": [
    "a=[1,2,3,3,3,3,3,2,2,2,1,1,4,5,6,7]"
   ]
  },
  {
   "cell_type": "code",
   "execution_count": 46,
   "id": "58ac2a33",
   "metadata": {},
   "outputs": [
    {
     "data": {
      "text/plain": [
       "{1, 2, 3, 4, 5, 6, 7}"
      ]
     },
     "execution_count": 46,
     "metadata": {},
     "output_type": "execute_result"
    }
   ],
   "source": [
    "set(a)"
   ]
  },
  {
   "cell_type": "code",
   "execution_count": null,
   "id": "951551ec",
   "metadata": {},
   "outputs": [],
   "source": []
  },
  {
   "cell_type": "code",
   "execution_count": 51,
   "id": "4c6e638e",
   "metadata": {},
   "outputs": [],
   "source": [
    "def listFrequence(l):\n",
    "    a = set(l)\n",
    "    for i in a:\n",
    "        count=0\n",
    "        for j in l:\n",
    "            if i == j:\n",
    "                count = count+1\n",
    "        print(\"Elemento \",i,\" presente \", count)\n",
    "\n",
    "    "
   ]
  },
  {
   "cell_type": "code",
   "execution_count": 52,
   "id": "5f32dc80",
   "metadata": {},
   "outputs": [
    {
     "name": "stdout",
     "output_type": "stream",
     "text": [
      "Elemento  1  presente  3\n",
      "Elemento  2  presente  4\n",
      "Elemento  3  presente  5\n",
      "Elemento  4  presente  1\n",
      "Elemento  5  presente  1\n",
      "Elemento  6  presente  1\n",
      "Elemento  7  presente  1\n"
     ]
    }
   ],
   "source": [
    "listFrequence(a)"
   ]
  },
  {
   "cell_type": "markdown",
   "id": "f81dfe16",
   "metadata": {},
   "source": [
    "# VARIABILI, OGGETTI, METODI E FIELDS"
   ]
  },
  {
   "cell_type": "markdown",
   "id": "a1c2f8a8",
   "metadata": {},
   "source": [
    "## Le variabili Python sono Puntatori (Pointers)\n",
    "\n",
    "Creare variabili e assegnargli un valore è facile, basta inserire il nome di una variabile a sinistra del segno di uguale (``=``) e il valore desiderato a destra:\n",
    "\n",
    "```piton\n",
    "# assegna 4 alla variabile x\n",
    "x = 4\n",
    "```\n",
    "\n",
    "Questo può sembrare semplice, ma vediamo meglio come opera Python quando esegue un' istruzione di questo tipo.\n",
    "Nella parte destra dell'istruzione Python crea un **OGGETTO** in memoria RAM che ha diverse informazioni tra cui il tipo dell'oggetto (type) e il valore dell'oggetto (value). \n",
    "Nel nostro caso abbiamo creato un oggetto di tipo INTEGER.\n",
    "\n",
    "<img src=\"fig/fig-variable-object-2.png\">\n",
    "\n",
    "Nella parte sinitra dell'istruzione Python crea una variabile denominata x che è un **puntatore** alla zona di memoria RAM in cui è memorizzato l'oggetto che abbiamo creato prima.\n",
    "\n",
    "<img src=\"fig/fig-variable-object-3.png\">\n",
    "\n",
    "Come possiamo vedere dalla figura sopra, la variabile x è come un 'telecomando' che ci consente di accedere alle informazioni contenute nell **oggetto** presente in memoria e quindi anche al valore 4 che avevamo assegnato. \n",
    "E' da notare come l'oggetto creato appartiene ad un insieme preciso che è l'insieme degli INTEGER. Diciamo che l'oggetto è un INTEGER TYPE"
   ]
  },
  {
   "cell_type": "code",
   "execution_count": 40,
   "id": "f39b58c7",
   "metadata": {},
   "outputs": [
    {
     "name": "stdout",
     "output_type": "stream",
     "text": [
      "4\n"
     ]
    }
   ],
   "source": [
    "x=4\n",
    "print(x)"
   ]
  },
  {
   "cell_type": "markdown",
   "id": "ce7e5b17",
   "metadata": {},
   "source": [
    "Consideriamo ora il seguente esempio"
   ]
  },
  {
   "cell_type": "code",
   "execution_count": 38,
   "id": "53391521",
   "metadata": {},
   "outputs": [
    {
     "name": "stdout",
     "output_type": "stream",
     "text": [
      "La variabile y ha il value [1, 2, 3]  ed è di tipo <class 'list'>\n"
     ]
    }
   ],
   "source": [
    "y = [1,2,3]        # y è una lista\n",
    "print('La variabile y ha il value',y,' ed è di tipo',type(y))"
   ]
  },
  {
   "cell_type": "markdown",
   "id": "1b78826e",
   "metadata": {},
   "source": [
    "Con l'istruzione precedente abbiamo creato un oggetto di tipo LIST e abbiamo inserito in questo oggetto i valori 1,2,3. Notiamo quindi che il nome della variabile è y, ma in questo caso il nostro puntatore 'punta' ad un oggetto diverso da INTEGER\n",
    "\n",
    "<img src=\"fig/fig-variable-object-1.png\">\n"
   ]
  },
  {
   "cell_type": "markdown",
   "id": "2bba02a9",
   "metadata": {},
   "source": [
    "La conseguenza di questa tecnica \"variabile come puntatore\" è che se abbiamo due nomi di variabili che puntano allo stesso oggetto *mutabile*, allora se effettuiamo un cambiamento con una variabile allora cambierà il valore anche dell'altra variabile.\n"
   ]
  },
  {
   "cell_type": "code",
   "execution_count": 3,
   "id": "b116f418",
   "metadata": {},
   "outputs": [],
   "source": [
    "x = y   # inseriamo in x il puntatore inserito in y"
   ]
  },
  {
   "cell_type": "markdown",
   "id": "63bca7ab",
   "metadata": {},
   "source": [
    "Abbiamo inserito nella variabile ``x`` il puntatore della variabile ``y``.\n",
    "Per questo motivo, se modifichiamo l'elenco tramite uno dei suoi nomi, vedremo che anche l'elenco \"altro\" verrà modificato:"
   ]
  },
  {
   "cell_type": "code",
   "execution_count": 4,
   "id": "050f1259",
   "metadata": {},
   "outputs": [
    {
     "name": "stdout",
     "output_type": "stream",
     "text": [
      "[1, 2, 3]\n"
     ]
    }
   ],
   "source": [
    "print(y) # stampiamo y"
   ]
  },
  {
   "cell_type": "code",
   "execution_count": 5,
   "id": "74811dd4",
   "metadata": {},
   "outputs": [
    {
     "name": "stdout",
     "output_type": "stream",
     "text": [
      "[1, 2, 3, 4]\n"
     ]
    }
   ],
   "source": [
    "y.append(4) # aggiungiamo 4 alla lista puntata da y\n",
    "print(y) # stampiamo la lista y"
   ]
  },
  {
   "cell_type": "markdown",
   "id": "cf1da76a",
   "metadata": {},
   "source": [
    "NB. Ora il nostro oggetto in memoria contiene un elemento in più\n",
    "\n",
    "<img src=\"fig/fig-variable-object-4.png\">\n",
    "\n"
   ]
  },
  {
   "cell_type": "code",
   "execution_count": 6,
   "id": "7f007df2",
   "metadata": {},
   "outputs": [
    {
     "name": "stdout",
     "output_type": "stream",
     "text": [
      "[1, 2, 3, 4]\n"
     ]
    }
   ],
   "source": [
    "print(x) # stampiamo la lista x"
   ]
  },
  {
   "cell_type": "markdown",
   "id": "91fbc709",
   "metadata": {},
   "source": [
    "Questo comportamento potrebbe creare confusione se si pensa erroneamente alle variabili come a un contenitore di dati.\n",
    "Ma se pensi alle variabili come **puntatori a oggetti**, allora questo comportamento ha senso.\n",
    "\n",
    "Nota anche che se usiamo \"``=``\" per assegnare un altro valore a ``x``, questo non influirà sul valore di ``y`` – l'assegnazione è semplicemente un cambiamento dell'oggetto a cui punta la variabile:"
   ]
  },
  {
   "cell_type": "code",
   "execution_count": 8,
   "id": "2e922cb4",
   "metadata": {},
   "outputs": [
    {
     "name": "stdout",
     "output_type": "stream",
     "text": [
      "[1, 2, 3, 4]\n",
      "something else\n"
     ]
    }
   ],
   "source": [
    "x = 'something else'\n",
    "print(y)  # y is unchanged\n",
    "print(x)"
   ]
  },
  {
   "cell_type": "markdown",
   "id": "43e59a23",
   "metadata": {},
   "source": [
    "<img src=\"fig/fig-variable-object-5.png\">\n"
   ]
  },
  {
   "cell_type": "markdown",
   "id": "69502a67",
   "metadata": {},
   "source": [
    "Ancora una volta, questo ha perfettamente senso se si pensa a ``x`` e ``y`` come puntatori, e all'operatore \"``=``\" come a un'operazione che cambia ciò a cui punta il nome."
   ]
  },
  {
   "cell_type": "markdown",
   "id": "9786cd2f",
   "metadata": {},
   "source": [
    "## Ogni cosa è un oggetto\n",
    "\n",
    "Python è un linguaggio di programmazione orientato agli oggetti (**OBJECT ORIENTING PROGRAMMING LANGUAGE - OOP**) e in Python TUTTO è un oggetto.\n",
    "\n",
    "Approfondiamo cosa significa. \n",
    "\n",
    "In precedenza abbiamo visto che le variabili sono semplicemente puntatori e che i nomi delle variabili stesse non hanno _informazioni di tipo associate_.\n",
    "\n",
    "Questo porta alcuni ad affermare erroneamente che Python è un linguaggio senza tipi. Ma non è così!\n",
    "\n",
    "Considera quanto segue:"
   ]
  },
  {
   "cell_type": "code",
   "execution_count": 2,
   "id": "bc02bf8b",
   "metadata": {},
   "outputs": [
    {
     "data": {
      "text/plain": [
       "int"
      ]
     },
     "execution_count": 2,
     "metadata": {},
     "output_type": "execute_result"
    }
   ],
   "source": [
    "x = 4\n",
    "type(x)"
   ]
  },
  {
   "cell_type": "code",
   "execution_count": 10,
   "id": "e4b920cf",
   "metadata": {},
   "outputs": [
    {
     "data": {
      "text/plain": [
       "str"
      ]
     },
     "execution_count": 10,
     "metadata": {},
     "output_type": "execute_result"
    }
   ],
   "source": [
    "x = 'hello'\n",
    "type(x)"
   ]
  },
  {
   "cell_type": "code",
   "execution_count": 11,
   "id": "e85dd538",
   "metadata": {},
   "outputs": [
    {
     "data": {
      "text/plain": [
       "float"
      ]
     },
     "execution_count": 11,
     "metadata": {},
     "output_type": "execute_result"
    }
   ],
   "source": [
    "x = 3.14159\n",
    "type(x)"
   ]
  },
  {
   "cell_type": "markdown",
   "id": "646dddd0",
   "metadata": {},
   "source": [
    "Come possiamo vedere ogni oggetto in Python appartiene ad un tipo (**type**) tuttavia, i tipi sono collegati non ai nomi delle variabili ma *agli oggetti stessi*.\n",
    "\n",
    "Nei linguaggi di programmazione orientati agli oggetti come Python, un *oggetto* è un'entità che contiene dati insieme a METADATI (FIELDS) e/o FUNZIONALITA' (METHODS) associate.\n",
    "\n",
    "In Python tutto è un oggetto, il che significa che ogni entità ha alcuni metadati (chiamati anche *attributi* o *fields*) e funzionalità associate (chiamate *metodi*).\n",
    "\n",
    "<img src=\"fig/fig-variable-object-6.png\">\n"
   ]
  },
  {
   "cell_type": "markdown",
   "id": "03512031",
   "metadata": {},
   "source": [
    "Questi attributi e metodi sono accessibili tramite la sintassi del punto.\n",
    "\n",
    "Per esempio, prima abbiamo visto che le liste hanno un metodo ``append``, che aggiunge un elemento alla lista, ed è accessibile tramite la sintassi del punto (\"``.``\"):"
   ]
  },
  {
   "cell_type": "code",
   "execution_count": 32,
   "id": "955b8019",
   "metadata": {},
   "outputs": [
    {
     "name": "stdout",
     "output_type": "stream",
     "text": [
      "[1, 2, 3, 4, 5, 6, 7, 8]\n"
     ]
    }
   ],
   "source": [
    "L = [1, 2, 3, 4, 5, 6 , 7, 8]\n",
    "print(L)"
   ]
  },
  {
   "cell_type": "code",
   "execution_count": 33,
   "id": "a9e3697f",
   "metadata": {},
   "outputs": [
    {
     "name": "stdout",
     "output_type": "stream",
     "text": [
      "[1, 2, 3, 4, 5, 6, 7, 8, 21]\n"
     ]
    }
   ],
   "source": [
    "L.append(21)\n",
    "print(L)"
   ]
  },
  {
   "cell_type": "code",
   "execution_count": 34,
   "id": "5237090e",
   "metadata": {},
   "outputs": [
    {
     "name": "stdout",
     "output_type": "stream",
     "text": [
      "[21, 8, 7, 6, 5, 4, 3, 2, 1]\n"
     ]
    }
   ],
   "source": [
    "L.reverse()\n",
    "print(L)"
   ]
  },
  {
   "cell_type": "markdown",
   "id": "2c4964fa",
   "metadata": {},
   "source": [
    "I metodi sono come gli attributi, tranne per il fatto che sono funzioni che puoi chiamare usando le parentesi di apertura e chiusura."
   ]
  },
  {
   "cell_type": "code",
   "execution_count": null,
   "id": "0f133389",
   "metadata": {},
   "outputs": [],
   "source": []
  }
 ],
 "metadata": {
  "@webio": {
   "lastCommId": null,
   "lastKernelId": null
  },
  "hide_input": false,
  "kernelspec": {
   "display_name": "Python 3 (ipykernel)",
   "language": "python",
   "name": "python3"
  },
  "language_info": {
   "codemirror_mode": {
    "name": "ipython",
    "version": 3
   },
   "file_extension": ".py",
   "mimetype": "text/x-python",
   "name": "python",
   "nbconvert_exporter": "python",
   "pygments_lexer": "ipython3",
   "version": "3.9.12"
  },
  "varInspector": {
   "cols": {
    "lenName": 16,
    "lenType": 16,
    "lenVar": 40
   },
   "kernels_config": {
    "python": {
     "delete_cmd_postfix": "",
     "delete_cmd_prefix": "del ",
     "library": "var_list.py",
     "varRefreshCmd": "print(var_dic_list())"
    },
    "r": {
     "delete_cmd_postfix": ") ",
     "delete_cmd_prefix": "rm(",
     "library": "var_list.r",
     "varRefreshCmd": "cat(var_dic_list()) "
    }
   },
   "types_to_exclude": [
    "module",
    "function",
    "builtin_function_or_method",
    "instance",
    "_Feature"
   ],
   "window_display": false
  }
 },
 "nbformat": 4,
 "nbformat_minor": 5
}
