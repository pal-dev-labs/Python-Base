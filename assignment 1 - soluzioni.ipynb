{
 "cells": [
  {
   "cell_type": "markdown",
   "id": "d96c4f72",
   "metadata": {},
   "source": [
    "# ASSIGNMENT 1 - SOLUZIONI"
   ]
  },
  {
   "cell_type": "markdown",
   "id": "c4afd41d",
   "metadata": {},
   "source": [
    "## ESERCIZIO 1.1: \n",
    "Calcola il risultato delle seguenti espressioni:\n",
    "1) 5+3\n",
    "2) 5 *3 – 2 * (8/4)"
   ]
  },
  {
   "cell_type": "code",
   "execution_count": 1,
   "id": "b27f8ce0",
   "metadata": {},
   "outputs": [
    {
     "data": {
      "text/plain": [
       "8"
      ]
     },
     "execution_count": 1,
     "metadata": {},
     "output_type": "execute_result"
    }
   ],
   "source": [
    "5+3"
   ]
  },
  {
   "cell_type": "code",
   "execution_count": 3,
   "id": "4ea9fd5a",
   "metadata": {},
   "outputs": [
    {
     "data": {
      "text/plain": [
       "11.0"
      ]
     },
     "execution_count": 3,
     "metadata": {},
     "output_type": "execute_result"
    }
   ],
   "source": [
    "5 *3 - 2 * (8/4)"
   ]
  },
  {
   "cell_type": "markdown",
   "id": "7acc764c",
   "metadata": {},
   "source": [
    "## ESERCIZIO 1.2:\n",
    "Ridurre 5132° ad un angolo minore di un angolo giro (Risultato 92°)"
   ]
  },
  {
   "cell_type": "code",
   "execution_count": 6,
   "id": "c0909c25",
   "metadata": {},
   "outputs": [
    {
     "data": {
      "text/plain": [
       "92"
      ]
     },
     "execution_count": 6,
     "metadata": {},
     "output_type": "execute_result"
    }
   ],
   "source": [
    "5132 % 360   # utilizzo l'operatore RESTO"
   ]
  },
  {
   "cell_type": "markdown",
   "id": "a214c31e",
   "metadata": {},
   "source": [
    "## ESERCIZIO 1.3: \n",
    "\n",
    "Ora sono le 16.00; che ore saranno tra 549 ore? Scrivere un'espressione che\n",
    "fornisca il risultato (Risultato le 13.00)"
   ]
  },
  {
   "cell_type": "code",
   "execution_count": 7,
   "id": "1671ce44",
   "metadata": {},
   "outputs": [
    {
     "data": {
      "text/plain": [
       "13"
      ]
     },
     "execution_count": 7,
     "metadata": {},
     "output_type": "execute_result"
    }
   ],
   "source": [
    "# SOLUZIONE: Prima sommiamo le 549 ore e poi riduciamo ad un numero < 24\n",
    "(16 + 549) % 24\n"
   ]
  },
  {
   "cell_type": "markdown",
   "id": "f6ef7043",
   "metadata": {},
   "source": [
    "## ESERCIZIO 1.4:\n",
    "Calcolare il valore delle seguenti espressioni matematiche:\n",
    "<img src=\"fig/espressione1.png\">\n"
   ]
  },
  {
   "cell_type": "code",
   "execution_count": 9,
   "id": "f22b2e56",
   "metadata": {},
   "outputs": [
    {
     "data": {
      "text/plain": [
       "2.0"
      ]
     },
     "execution_count": 9,
     "metadata": {},
     "output_type": "execute_result"
    }
   ],
   "source": [
    "(5+3)/(6-2)"
   ]
  },
  {
   "cell_type": "code",
   "execution_count": 11,
   "id": "379b5d4a",
   "metadata": {},
   "outputs": [
    {
     "data": {
      "text/plain": [
       "5.0"
      ]
     },
     "execution_count": 11,
     "metadata": {},
     "output_type": "execute_result"
    }
   ],
   "source": [
    "25**(1/2)"
   ]
  },
  {
   "cell_type": "code",
   "execution_count": 12,
   "id": "5bd30ae5",
   "metadata": {},
   "outputs": [
    {
     "data": {
      "text/plain": [
       "16.0"
      ]
     },
     "execution_count": 12,
     "metadata": {},
     "output_type": "execute_result"
    }
   ],
   "source": [
    "3*(2+5)-(10/(4-2))"
   ]
  },
  {
   "cell_type": "code",
   "execution_count": 14,
   "id": "25781111",
   "metadata": {},
   "outputs": [
    {
     "data": {
      "text/plain": [
       "36"
      ]
     },
     "execution_count": 14,
     "metadata": {},
     "output_type": "execute_result"
    }
   ],
   "source": [
    "(3*(5-3))**2"
   ]
  },
  {
   "cell_type": "markdown",
   "id": "993dea4f",
   "metadata": {},
   "source": [
    "## ESERCIZIO 1.5:\n",
    "Calcolare il valore delle seguenti espressioni matematiche:\n",
    "<img src=\"fig/espressione2.png\">\n"
   ]
  },
  {
   "cell_type": "code",
   "execution_count": 19,
   "id": "8ce8c539",
   "metadata": {},
   "outputs": [
    {
     "data": {
      "text/plain": [
       "121.0"
      ]
     },
     "execution_count": 19,
     "metadata": {},
     "output_type": "execute_result"
    }
   ],
   "source": [
    "(5**12-5**10+5**9)/(5**9)"
   ]
  },
  {
   "cell_type": "code",
   "execution_count": 21,
   "id": "3e23b38b",
   "metadata": {},
   "outputs": [
    {
     "data": {
      "text/plain": [
       "11.0"
      ]
     },
     "execution_count": 21,
     "metadata": {},
     "output_type": "execute_result"
    }
   ],
   "source": [
    "(2**14-2**12-2**10)/2**10"
   ]
  },
  {
   "cell_type": "code",
   "execution_count": 23,
   "id": "b6b8475f",
   "metadata": {},
   "outputs": [
    {
     "data": {
      "text/plain": [
       "23.0"
      ]
     },
     "execution_count": 23,
     "metadata": {},
     "output_type": "execute_result"
    }
   ],
   "source": [
    "(4**6+5*8**3-3*16**2)/2**8"
   ]
  },
  {
   "cell_type": "markdown",
   "id": "4810965b",
   "metadata": {},
   "source": [
    "## Esercizio 1.6:\n",
    "Calcolare l'area di un cerchio"
   ]
  },
  {
   "cell_type": "code",
   "execution_count": 32,
   "id": "e91e1b80",
   "metadata": {},
   "outputs": [
    {
     "name": "stdout",
     "output_type": "stream",
     "text": [
      "706.8375000000001\n"
     ]
    }
   ],
   "source": [
    "raggio = 15\n",
    "pi = 3.1415\n",
    "area = pi*raggio**2\n",
    "print(area)"
   ]
  },
  {
   "cell_type": "code",
   "execution_count": null,
   "id": "91e0ef11",
   "metadata": {},
   "outputs": [],
   "source": []
  },
  {
   "cell_type": "markdown",
   "id": "e267df8d",
   "metadata": {},
   "source": [
    "## Esercizio 1.7:\n",
    "Calcolare la somma di due numeri interi:"
   ]
  },
  {
   "cell_type": "code",
   "execution_count": 30,
   "id": "8010cf18",
   "metadata": {},
   "outputs": [
    {
     "name": "stdout",
     "output_type": "stream",
     "text": [
      "30\n"
     ]
    }
   ],
   "source": [
    "a = 10\n",
    "b = 20\n",
    "c = a+b\n",
    "print(c)"
   ]
  },
  {
   "cell_type": "code",
   "execution_count": null,
   "id": "445dcdfc",
   "metadata": {},
   "outputs": [],
   "source": []
  },
  {
   "cell_type": "markdown",
   "id": "c11f22cc",
   "metadata": {},
   "source": [
    "## Esercizio 1.8:\n",
    "Calcolare l'area di un triangolo dato la base e l'altezza:"
   ]
  },
  {
   "cell_type": "code",
   "execution_count": 31,
   "id": "c7576bad",
   "metadata": {},
   "outputs": [
    {
     "name": "stdout",
     "output_type": "stream",
     "text": [
      "75.0\n"
     ]
    }
   ],
   "source": [
    "b = 10\n",
    "h = 15\n",
    "a = b*h/2\n",
    "print(a)"
   ]
  },
  {
   "cell_type": "markdown",
   "id": "042dee6d",
   "metadata": {},
   "source": [
    "## Esercizio 1.9:\n",
    "Convertire gradi Celsius in Fahrenheit:\n",
    "\n",
    "Dovendo convertire una misura da gradi Celsius a gradi Fahrenheit, si procede come segue: moltiplicare per 9 la temperatura in Celsius. dividere per 5 il risultato ottenuto. aggiungere 32 a quest'ultimo valore."
   ]
  },
  {
   "cell_type": "code",
   "execution_count": 35,
   "id": "1e383320",
   "metadata": {},
   "outputs": [
    {
     "name": "stdout",
     "output_type": "stream",
     "text": [
      "80.6\n"
     ]
    }
   ],
   "source": [
    "tempCelsius = 27\n",
    "tempFahr = (tempCelsius *9 )/5 +32\n",
    "print(tempFahr)"
   ]
  },
  {
   "cell_type": "code",
   "execution_count": null,
   "id": "f971616a",
   "metadata": {},
   "outputs": [],
   "source": []
  },
  {
   "cell_type": "markdown",
   "id": "ccf9c33f",
   "metadata": {},
   "source": [
    "## Esercizio 1.10:\n",
    "Calcolare l'area di un trapezio dato le lunghezze delle basi e l'altezza:"
   ]
  },
  {
   "cell_type": "code",
   "execution_count": 38,
   "id": "f1e8d06f",
   "metadata": {},
   "outputs": [
    {
     "name": "stdout",
     "output_type": "stream",
     "text": [
      "150.0\n"
     ]
    }
   ],
   "source": [
    "bmin = 10\n",
    "bmag = 15\n",
    "h = 12\n",
    "area = (bmin+bmag)*h/2\n",
    "print(area)"
   ]
  },
  {
   "cell_type": "code",
   "execution_count": null,
   "id": "65309785",
   "metadata": {},
   "outputs": [],
   "source": []
  },
  {
   "cell_type": "markdown",
   "id": "b768e269",
   "metadata": {},
   "source": [
    "## Esercizio 1.11:\n",
    "Calcolare il volume di un cilindro dato il raggio della base e l'altezza:"
   ]
  },
  {
   "cell_type": "code",
   "execution_count": 39,
   "id": "d189e49f",
   "metadata": {},
   "outputs": [
    {
     "name": "stdout",
     "output_type": "stream",
     "text": [
      "3817.8\n"
     ]
    }
   ],
   "source": [
    "rbase = 10\n",
    "pi = 3.1815\n",
    "h = 12\n",
    "areabase = pi*rbase**2\n",
    "volume = areabase * h\n",
    "print(volume)"
   ]
  },
  {
   "cell_type": "code",
   "execution_count": null,
   "id": "9c7b4960",
   "metadata": {},
   "outputs": [],
   "source": []
  },
  {
   "cell_type": "code",
   "execution_count": null,
   "id": "3411ae08",
   "metadata": {},
   "outputs": [],
   "source": []
  },
  {
   "cell_type": "code",
   "execution_count": null,
   "id": "92b27c0a",
   "metadata": {},
   "outputs": [],
   "source": []
  }
 ],
 "metadata": {
  "kernelspec": {
   "display_name": "Python 3 (ipykernel)",
   "language": "python",
   "name": "python3"
  },
  "language_info": {
   "codemirror_mode": {
    "name": "ipython",
    "version": 3
   },
   "file_extension": ".py",
   "mimetype": "text/x-python",
   "name": "python",
   "nbconvert_exporter": "python",
   "pygments_lexer": "ipython3",
   "version": "3.11.4"
  }
 },
 "nbformat": 4,
 "nbformat_minor": 5
}
