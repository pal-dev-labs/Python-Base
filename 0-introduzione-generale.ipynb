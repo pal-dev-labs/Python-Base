{
 "cells": [
  {
   "cell_type": "markdown",
   "id": "4b5db06b",
   "metadata": {},
   "source": [
    "<!--NAVIGATION-->\n",
    "< [Indice](indice.ipynb) | [Hello world Jupyter](1-hello-world-jupyter.ipynb) >"
   ]
  },
  {
   "cell_type": "markdown",
   "id": "c3cb011e",
   "metadata": {},
   "source": [
    "# Introduzione al corso Artificial Intelligence with Python"
   ]
  },
  {
   "cell_type": "markdown",
   "id": "9747c1b2",
   "metadata": {},
   "source": [
    "Il Corso ha lo scopo di fornire agli studenti abilità per codificare algoritmi di base per implementare al calcolatore semplici modelli di Machine Learning. Gli studenti hanno l’opportunità di apprendere Python, un linguaggio di programmazione molto utilizzato in ambito scientifico, e di utilizzarlo per trattare banche dati e implementare alcune tecniche di Supervised Learning (prediction e la classification). Infine hanno la possibilità di applicare tali tecniche in contesti reali, per “toccare con mano” come un dato possa essere predetto o classificato in automatico da un algoritmo, sulla base di una conoscenza pregressa dei dati.\n",
    "\n",
    "Il fine ultimo è quello di far comprendere allo studente come un calcolatore possa essere istruito in modo da prendere decisioni in autonomia (per es. classificare una mail come spam o no spam) sulla base di un modello matematico che utilizza i tools del calcolo, dell’algebra lineare e della statistica e codificato attraverso un linguaggio di programmazione.\n",
    "\n",
    "Il corso si pone anche l’obiettivo di creare un corpus di studenti che conoscono il linguaggio di programmazione Python al fine di poter sviluppare nel tempo successive esperienze di fisica-matematica computazionale, man mano più complesse (modelli matematico-statistici di regressione lineare, studi di funzioni, interpolazioni, tecniche numeriche di risoluzione di equazioni ordinarie e differenziali, tecniche di minimizzazione di funzioni, simulazioni al calcolatore di modelli fisici, tecniche avanzate di machine learning, networks).\n",
    "\n",
    "OBIETTIVI DEL PROGETTO:\n",
    "\n",
    "- saper utilizzare i comandi base di Python, le strutture cicliche e condizionate e le strutture dati di base (Liste e Dictionary)\n",
    "- saper utilizzare le principali librerie di Python per gestire l’algebra lineare (Numpy), la Data Manipulation (Pandas), e la Data and Information Visualization (MatPlotLib)\n",
    "- saper utilizzare le librerie di Python Scikit-Learn e SciPy limitatamente ai tool statistici di Machine Learning relativi alla regression e classification\n",
    "- acquisire le basi matematico-statistiche minimali per comprendere i modelli utilizzati (rudimenti di statistica, algebra lineare e calcolo)\n",
    "- eseguire programmi-esempio che implementano algoritmi di regression e classification utilizzando le librerie Python Scikit Learn e Scipy in modo da saperli adattare a situazioni simili."
   ]
  }
 ],
 "metadata": {
  "hide_input": false,
  "kernelspec": {
   "display_name": "Python 3 (ipykernel)",
   "language": "python",
   "name": "python3"
  },
  "language_info": {
   "codemirror_mode": {
    "name": "ipython",
    "version": 3
   },
   "file_extension": ".py",
   "mimetype": "text/x-python",
   "name": "python",
   "nbconvert_exporter": "python",
   "pygments_lexer": "ipython3",
   "version": "3.9.12"
  },
  "varInspector": {
   "cols": {
    "lenName": 16,
    "lenType": 16,
    "lenVar": 40
   },
   "kernels_config": {
    "python": {
     "delete_cmd_postfix": "",
     "delete_cmd_prefix": "del ",
     "library": "var_list.py",
     "varRefreshCmd": "print(var_dic_list())"
    },
    "r": {
     "delete_cmd_postfix": ") ",
     "delete_cmd_prefix": "rm(",
     "library": "var_list.r",
     "varRefreshCmd": "cat(var_dic_list()) "
    }
   },
   "types_to_exclude": [
    "module",
    "function",
    "builtin_function_or_method",
    "instance",
    "_Feature"
   ],
   "window_display": false
  }
 },
 "nbformat": 4,
 "nbformat_minor": 5
}
